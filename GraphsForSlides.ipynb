{
  "nbformat": 4,
  "nbformat_minor": 0,
  "metadata": {
    "colab": {
      "provenance": [],
      "authorship_tag": "ABX9TyMUsq7Uxe0CrhZ0HwYcN7c8",
      "include_colab_link": true
    },
    "kernelspec": {
      "name": "python3",
      "display_name": "Python 3"
    },
    "language_info": {
      "name": "python"
    }
  },
  "cells": [
    {
      "cell_type": "markdown",
      "metadata": {
        "id": "view-in-github",
        "colab_type": "text"
      },
      "source": [
        "<a href=\"https://colab.research.google.com/github/weathon/dating-app-pub/blob/main/GraphsForSlides.ipynb\" target=\"_parent\"><img src=\"https://colab.research.google.com/assets/colab-badge.svg\" alt=\"Open In Colab\"/></a>"
      ]
    },
    {
      "cell_type": "code",
      "execution_count": 60,
      "metadata": {
        "colab": {
          "base_uri": "https://localhost:8080/",
          "height": 361
        },
        "id": "KgklPmaVRz0S",
        "outputId": "3f39acc1-66ae-4b1f-98ff-43408b565320"
      },
      "outputs": [
        {
          "output_type": "display_data",
          "data": {
            "text/plain": [
              "<Figure size 432x432 with 1 Axes>"
            ],
            "image/png": "[encoded data removed]"
          },
          "metadata": {}
        }
      ],
      "source": [
        "import numpy as np\n",
        "import pylab\n",
        "figure, axes = pylab.subplots(figsize=(6,6))\n",
        "X = []\n",
        "Y = []\n",
        "for i in range(40):\n",
        "  X.append(np.random.uniform())\n",
        "  Y.append(np.random.uniform())\n",
        "axes.scatter(X, Y)\n",
        "axes.scatter(.5,.5, color=\"red\")\n",
        "Drawing_colored_circle = pylab.Circle(( 0.5 , 0.5 ), 0.2, fill = False, color=\"red\")\n",
        "axes.set_aspect( 1 )\n",
        "axes.add_artist( Drawing_colored_circle )\n",
        "# https://www.geeksforgeeks.org/how-to-draw-a-circle-using-matplotlib-in-python/\n",
        "axes.set_yticks([])\n",
        "axes.set_xticks([])\n",
        "pylab.savefig(\"dots.png\",dpi=500)"
      ]
    }
  ]
}