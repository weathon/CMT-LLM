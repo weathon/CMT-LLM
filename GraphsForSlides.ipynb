{
  "nbformat": 4,
  "nbformat_minor": 0,
  "metadata": {
    "colab": {
      "provenance": [],
      "authorship_tag": "ABX9TyNzsMq2S8EvfiPafxN0x+su",
      "include_colab_link": true
    },
    "kernelspec": {
      "name": "python3",
      "display_name": "Python 3"
    },
    "language_info": {
      "name": "python"
    }
  },
  "cells": [
    {
      "cell_type": "markdown",
      "metadata": {
        "id": "view-in-github",
        "colab_type": "text"
      },
      "source": [
        "<a href=\"https://colab.research.google.com/github/weathon/dating-app-pub/blob/main/GraphsForSlides.ipynb\" target=\"_parent\"><img src=\"https://colab.research.google.com/assets/colab-badge.svg\" alt=\"Open In Colab\"/></a>"
      ]
    },
    {
      "cell_type": "code",
      "execution_count": 51,
      "metadata": {
        "colab": {
          "base_uri": "https://localhost:8080/",
          "height": 378
        },
        "id": "KgklPmaVRz0S",
        "outputId": "347a8214-0424-49d7-a771-fe2cd39220be"
      },
      "outputs": [
        {
          "output_type": "stream",
          "name": "stderr",
          "text": [
            "WARNING:matplotlib.image:Clipping input data to the valid range for imshow with RGB data ([0..1] for floats or [0..255] for integers).\n"
          ]
        },
        {
          "output_type": "display_data",
          "data": {
            "text/plain": [
              "<Figure size 432x432 with 1 Axes>"
            ],
            "image/png": "[encoded data removed]"
          },
          "metadata": {}
        }
      ],
      "source": [
        "import numpy as np\n",
        "import pylab\n",
        "pylab.figure(figsize=(6,6))\n",
        "X = []\n",
        "Y = []\n",
        "for i in range(40):\n",
        "  X.append(np.random.uniform())\n",
        "  Y.append(np.random.uniform())\n",
        "pylab.scatter(X, Y)\n",
        "pylab.scatter(.5,.5, color=\"red\")\n",
        "pylab.yticks([])\n",
        "pylab.xticks([])\n",
        "pylab.savefig(\"dots.png\",dpi=500)"
      ]
    },
    {
      "cell_type": "code",
      "source": [
        "pic = np.zeros(shape=(500,500,3))\n",
        "for i in range(500):\n",
        "  y = np.sqrt(0.35-(i+0.5)**2)\n",
        "  if not np.isnan(y):\n",
        "    pic[i,int(y-0.5),2]=3\n",
        "    pic[i, int(-y-0.5),2]=3\n",
        "pylab.imshow(pic)"
      ],
      "metadata": {
        "colab": {
          "base_uri": "https://localhost:8080/",
          "height": 338
        },
        "id": "ySTBxJq1VRcz",
        "outputId": "cf14d0ba-b47f-4d86-c4a0-ed9889d8bf16"
      },
      "execution_count": 50,
      "outputs": [
        {
          "output_type": "stream",
          "name": "stderr",
          "text": [
            "<ipython-input-50-85ae5ca040a4>:3: RuntimeWarning: invalid value encountered in sqrt\n",
            "  y = np.sqrt(0.35-(i+0.5)**2)\n",
            "WARNING:matplotlib.image:Clipping input data to the valid range for imshow with RGB data ([0..1] for floats or [0..255] for integers).\n"
          ]
        },
        {
          "output_type": "execute_result",
          "data": {
            "text/plain": [
              "<matplotlib.image.AxesImage at 0x7fd607a42cd0>"
            ]
          },
          "metadata": {},
          "execution_count": 50
        },
        {
          "output_type": "display_data",
          "data": {
            "text/plain": [
              "<Figure size 432x288 with 1 Axes>"
            ],
            "image/png": "[encoded data removed]"
          },
          "metadata": {
            "needs_background": "light"
          }
        }
      ]
    }
  ]
}